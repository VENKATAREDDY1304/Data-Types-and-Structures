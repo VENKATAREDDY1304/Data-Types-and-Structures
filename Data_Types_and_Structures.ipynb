{
  "nbformat": 4,
  "nbformat_minor": 0,
  "metadata": {
    "colab": {
      "provenance": []
    },
    "kernelspec": {
      "name": "python3",
      "display_name": "Python 3"
    },
    "language_info": {
      "name": "python"
    }
  },
  "cells": [
    {
      "cell_type": "markdown",
      "source": [
        "**1.What are data structures, and why are they important?**\n",
        "* sol: Data structures are ways of organizing and storing data in a computer so that it can be accessed and manipulated efficiently. They're essential because they allow for the efficient management and retrieval of data, which is critical for solving problems and running applications effectively.\n",
        "\n",
        "### Common data structures include:\n",
        "\n",
        "1. **Arrays** – A collection of elements, each identified by an index or key.\n",
        "2. **Linked Lists** – A linear collection of elements where each element points to the next.\n",
        "3. **Stacks** – A collection where elements follow the Last In, First Out (LIFO) order.\n",
        "4. **Queues** – A collection where elements follow the First In, First Out (FIFO) order.\n",
        "5. **Trees** – A hierarchical structure with nodes connected by edges, commonly used for searching and sorting.\n",
        "6. **Graphs** – Used for representing networks, with nodes (vertices) connected by edges (e.g., social networks, maps).\n",
        "7. **Hash Tables** – A structure that maps keys to values, providing efficient retrieval.\n",
        "\n",
        "### importantance\n",
        "\n",
        "1. **Efficiency**: Different data structures allow operations like searching, inserting, updating, and deleting data to be done in optimal time.\n",
        "2. **Memory management**: Some data structures can save memory or allow efficient memory usage, depending on how data is stored.\n",
        "3. **Problem solving**: Choosing the right data structure can simplify solving a problem or make an algorithm more efficient.\n",
        "4. **Scalability**: As the amount of data increases, the performance of an algorithm can be heavily influenced by the data structures used.\n",
        "\n",
        "So, understanding data structures is essential for any software development or algorithm design, as they are the foundation of most computer programs!\n",
        "\n",
        "\n",
        "**2.Explain the difference between mutable and immutable data types with examples.**\n",
        "* sol:The distinction between mutable and immutable data types is an important concept in programming. It refers to whether the data type’s value can be changed after it’s created.\n",
        "\n",
        "### Mutable Data Types\n",
        "Mutable data types can be modified after they are created. This means you can change their content without creating a new instance of the data type.\n",
        "Ex:\n",
        "my_dict = {'a': 1, 'b': 2}\n",
        "my_dict['a'] = 5\n",
        "print(my_dict)\n",
        "### Immutable Data Types\n",
        "Immutable data types, on the other hand, cannot be changed once they are created. If you want to modify an immutable object, you would need to create a new instance of that data type.\n",
        "\n",
        "Ex:my_str = \"hello\"\n",
        "new_str = my_str.upper()\n",
        "print(new_str)\n",
        "print(my_str)\n",
        "\n",
        "\n",
        "**3. What are the main differences between lists and tuples in Python?**\n",
        "* sol:Lists and tuples in Python are both used to store collections of items, but they have key differences that influence how and when they should be used. Here's a breakdown of the main differences between lists and tuples\n",
        "\n",
        "**4.Describe how dictionaries store data.**\n",
        "* sol:Dictionaries in Python are used to store data in key-value pairs. Each key is unique and maps to a corresponding value. This structure allows for efficient lookups, additions, and deletions based on the key.\n",
        "\n",
        "**5.Why might you use a set instead of a list in Python?**\n",
        "* sol:**When you need uniqueness:**If you don't want any duplicate elements, a set automatically handles this for you.\n",
        "* **When you need fast membership testing:**If you need to check whether an element is in the collection frequently, sets provide faster membership testing than lists.\n",
        "* **When you need to perform set operations:**If you need to perform operations like union, intersection, or difference between collections, sets make it easy and efficient.\n",
        "* **When the order of elements doesn't matter:**If the order of elements is irrelevant for your application, a set might be a better choice since it automatically removes duplicates and doesn't maintain order.\n",
        "\n",
        "**6.What is a string in Python, and how is it different from a list?**\n",
        "* sol:**String:**In Python, a string is a sequence of characters enclosed in quotes (single ', double \", or triple ''' or \"\"\"). It is used to represent text-based data.\n",
        "* While both strings and lists are ordered collections, strings are immutable and store characters, while lists are mutable and can store elements of any type. The choice between using a string or a list depends on whether you need to work with text data or a more flexible collection of different data types.\n",
        "\n",
        "**7.How do tuples ensure data integrity in Python?**\n",
        "* sol:Tuples in Python help ensure data integrity by being immutable. This immutability is a key feature that makes tuples an excellent choice in situations where you need to guarantee that the data remains unchanged throughout the execution of a program.\n",
        "\n",
        "**8.What is a hash table, and how does it relate to dictionaries in Python?**\n",
        "* sol:\n",
        "A hash table is a data structure that enables fast data retrieval by using a hash function to compute an index (or hash code) where an element should be stored or found. Hash tables provide an efficient way to implement associative arrays or key-value stores, such as dictionaries in Python.\n",
        "* **Relationship Between Hash Tables and Python Dictionaries:**\n",
        "In Python, dictionaries are implemented using a hash table under the hood. When you use a dictionary, Python automatically applies a hash function to the key you provide, determines where to store the corresponding value, and handles any collisions efficiently.\n",
        "\n",
        "**9.Can lists contain different data types in Python?**\n",
        "* sol:Yes, lists in Python can contain different data types. Unlike some other programming languages that require lists (or arrays) to contain elements of the same type, Python allows lists to store a mix of various data types.\n",
        "This means you can have integers, strings, floats, booleans, or even more complex objects like dictionaries, lists, and tuples in a single list.\n",
        "\n",
        "**10. Explain why strings are immutable in Python.**\n",
        "* sol:In Python, strings are immutable. This means that once a string is created, its contents cannot be changed. While this might seem limiting at first, there are several important reasons behind why Python chose to make strings immutable, and why this characteristic can be beneficial. Let’s break it down:\n",
        "* **Efficiency:** Optimizes memory usage and performance by reusing strings and reducing overhead.\n",
        "* **Predictability and Safety:** Prevents accidental modifications, making code more reliable and thread-safe.\n",
        "* **Hashing:** Ensures the integrity of hash values when strings are used as dictionary keys.\n",
        "* **Functional Programming:** Encourages functional programming principles by avoiding side effects.\n",
        "* **Consistency:** Ensures consistent behavior alongside other immutable types in Python.\n",
        "\n",
        "**11.What advantages do dictionaries offer over lists for certain tasks?**\n",
        "* sol:Dictionaries in Python offer several distinct advantages over lists, particularly when you need to store and access data in a way that involves key-value associations. Here's a detailed breakdown of why dictionaries might be preferred over lists for certain tasks:\n",
        "\n",
        "1. **Faster Lookups by Key (Average O(1) Time Complexity)**\n",
        "\n",
        "  Dictionaries provide constant-time (O(1)) lookups on average when you access a value by its key. This is because dictionaries are implemented using hash tables, where each key is hashed to a unique index, making retrieval very efficient.\n",
        "  Lists, on the other hand, rely on index-based access or searching through the list (which takes O(n) time in the worst case), meaning you would have to iterate through the list to find a specific element unless you know its index.\n",
        "\n",
        "2. **Efficient Data Retrieval Using Keys**\n",
        "Dictionaries store data as key-value pairs, which allows you to quickly associate and retrieve data by its key. If you need to retrieve a specific piece of information (e.g., a user’s email address, a product’s price), dictionaries are the ideal structure.\n",
        "Lists, on the other hand, are indexed numerically, and retrieving data by a specific identifier requires searching through the list.\n",
        "3. **Handling Unique Keys**\n",
        "  \n",
        "  Dictionaries ensure that each key is unique. If you try to insert a new value for an existing key, the old value will be overwritten with the new one.\n",
        "  Lists allow duplicates without any restrictions, so if you want to maintain uniqueness of elements, you would need to manually check for duplicates.\n",
        "4.  **Flexible Key-Based Data Access**\n",
        "\n",
        "  Dictionaries allow you to use almost any immutable data type (like strings, numbers, or tuples) as keys. This gives you the flexibility to access and store data in a way that suits the structure of your problem.\n",
        "  Lists rely on integer indices, which can limit how you structure and access your data, especially when you need to use arbitrary identifiers instead of numeric indexes.\n",
        "\n",
        "5. **Efficient Updates and Deletions by Key**\n",
        "\n",
        "  Dictionaries allow you to easily update or delete entries using their keys. Since keys are hashed, updating or deleting an entry takes O(1) time on average.\n",
        "  Lists require locating an element, either by its index or by searching the list, which can be more time-consuming if you don’t know the exact index.\n",
        "\n",
        "6. **Handling Complex Data Structures**\n",
        "\n",
        "  Dictionaries are great for handling complex data, such as nested dictionaries or storing multiple attributes for a single item. You can use dictionaries to represent objects with attributes (like storing a person's details: name, age, address).\n",
        "  Lists can also hold complex data, but their structure is less intuitive when you need to represent relationships or groupings of data (e.g., mapping a name to an email address).\n",
        "\n",
        "7. **Better for Mapping Relationships**\n",
        "\n",
        "  Dictionaries are designed to map one piece of data (the key) to another (the value). This is ideal for situations where you need to create associations, such as mapping a product ID to its price, or a name to an email address.\n",
        "  Lists are better suited for maintaining an ordered collection but are less efficient when you need to perform mappings based on arbitrary identifiers.\n",
        "\n",
        "8. **Handling Missing Data and Default Values**\n",
        "  \n",
        "  Dictionaries have built-in mechanisms to handle missing data, such as the get() method, which allows you to provide a default value when a key does not exist.\n",
        "  Lists do not have this built-in behavior, and you would have to manually check if an index is valid before accessing the list.\n",
        "\n",
        "**12.Describe a scenario where using a tuple would be preferable over a list.**\n",
        "* sol:In this case, using a tuple is preferable because it ensures that the RGB values remain constant and prevents accidental modifications. The immutability of tuples is ideal when you want to represent fixed data, like coordinates or color values, and it provides both data integrity and performance benefits.\n",
        "\n",
        "**13.How do sets handle duplicate values in Python?**\n",
        "* sol:In Python, sets are unordered collections of unique elements. When you try to add duplicate values to a set, it automatically ignores them. Sets only allow one occurrence of each value, so any subsequent attempts to add a duplicate value to the set will not change the set.\n",
        "\n",
        "**14.How does the “in” keyword work differently for lists and dictionaries?**\n",
        "* sol:The in keyword works differently for lists and dictionaries in Python because it checks for membership in different ways based on the data structure:\n",
        "\n",
        "1. **In Lists:**\n",
        "When you use the in keyword with a list, it checks whether the specified value is present in the list. The search is done by iterating through the list to see if the item exists, which means it checks for element membership.\n",
        "2. **In Dictionaries:**\n",
        "When you use the in keyword with a dictionary, it checks whether the specified key exists in the dictionary. This check is not for values but for the keys that map to specific values. Python uses a highly optimized method for key lookups in dictionaries, so membership tests are very fast.\n",
        "\n",
        "**15.Can you modify the elements of a tuple? Explain why or why not?**\n",
        "*sol:No, you cannot modify the elements of a tuple after it has been created. This is because tuples are immutable in Python, which means that once a tuple is created, its elements cannot be changed, added, or removed.\n",
        "\n",
        "1.  **Immutability by Design:** Tuples are intentionally designed to be immutable for specific use cases where you want to ensure that the data does not change. This provides data integrity and predictability because once a tuple is created, its values remain constant.\n",
        "\n",
        "2.  **Performance Benefits:** The immutability of tuples allows Python to optimize memory usage. Since the tuple's contents can't be modified, the interpreter can safely store and reuse the tuple in memory, leading to better performance.\n",
        "\n",
        "3.  **Hashability:** Since tuples are immutable, they can be used as keys in dictionaries or as elements in sets, both of which require that the items be hashable. The immutability guarantees that the hash value of the tuple remains consistent, ensuring it can be used effectively in these data structures.\n",
        "\n",
        "**16.What is a nested dictionary, and give an example of its use case?**\n",
        "* sol:A nested dictionary in Python refers to a dictionary where some of the values are themselves dictionaries. This allows you to represent more complex hierarchical data structures, such as multi-level mappings, where each dictionary can contain other dictionaries as values.\n"
      ],
      "metadata": {
        "id": "7DlKuVs6wsJI"
      }
    },
    {
      "cell_type": "code",
      "source": [
        "# Ex:\n",
        "students = {\n",
        "    'student_1': {\n",
        "        'name': 'venkata reddy',\n",
        "        'age': 24,\n",
        "        'courses': {\n",
        "            'python': 'A',\n",
        "            'java': 'B'\n",
        "        }\n",
        "    },\n",
        "    'student_2': {\n",
        "        'name': 'lokesh',\n",
        "        'age': 24,\n",
        "        'courses': {\n",
        "            'python': 'C',\n",
        "            'html': 'A'\n",
        "        }\n",
        "    }\n",
        "}\n",
        "print(\"student1 name:\",students['student_1']['name'])\n",
        "print(\"student2 python grade:\",students['student_2']['courses']['python'])\n",
        "\n",
        "students['student_1']['courses']['java'] = 'A'\n",
        "print(\"student1 java new grade:\",students['student_1']['courses']['java'])"
      ],
      "metadata": {
        "colab": {
          "base_uri": "https://localhost:8080/"
        },
        "id": "5jp-5rfMfjUL",
        "outputId": "6de8402f-53d7-447f-8373-4cb4e16ca800"
      },
      "execution_count": 3,
      "outputs": [
        {
          "output_type": "stream",
          "name": "stdout",
          "text": [
            "student1 name: venkata reddy\n",
            "student2 python grade: C\n",
            "student1 java new grade: A\n"
          ]
        }
      ]
    },
    {
      "cell_type": "markdown",
      "source": [
        "**17.Describe the time complexity of accessing elements in a dictionary.**\n",
        "* sol:If multiple keys hash to the same bucket (a collision), the dictionary may have to resolve this collision, which could involve searching through a list of key-value pairs in that bucket. If there are many collisions, this can increase the time complexity, potentially degrading to O(n) in the worst case. But with a good hash function and efficient handling of collisions, the average time complexity remains O(1).\n",
        "\n",
        "**18. In what situations are lists preferred over dictionaries?**\n",
        "* sol:Lists and dictionaries are both powerful data structures in Python, but each has strengths suited to specific use cases. Here are situations where lists are preferred over dictionaries:\n",
        "\n",
        "1. Sequential Data\n",
        "When the data has a natural order and you need to preserve it, use a list.\n",
        "2. No Key-Value Relationship\n",
        "When your data doesn't have a unique identifier (key) for each value and you only care about the values themselves\n",
        "3. Index-Based Access\n",
        "When you need to frequently access elements by their position or perform operations like slicing\n",
        "4. Simple Iterations\n",
        "When you just want to iterate through a collection of items without concern for key-value pairs.\n",
        "5. Memory Efficiency for Small Data\n",
        "Lists are generally more memory-efficient than dictionaries for small datasets because dictionaries require additional memory for storing keys and the hash table.\n",
        "6. Sorting and Ordering\n",
        "If you need to sort or reorder your data frequently, lists make it easy.\n",
        "7. When Keys Are Unnecessary or Redundant\n",
        "If the data already implies its meaning by position, adding keys in a dictionary would be overkill.\n",
        "8. When Performance for Lookup Isn’t Critical\n",
        "Lists are slower than dictionaries for lookups (O(n) vs. O(1)), but if your dataset is small or lookups are rare, a list is simpler and sufficient.\n",
        "9. Homogeneous Data\n",
        "When all elements in the collection are of the same type, such as integers, strings, or objects.\n",
        "\n",
        "**19. Why are dictionaries considered unordered, and how does that affect data retrieval?**\n",
        "* sol:Dictionaries in Python were historically considered unordered because their internal implementation prioritized efficient lookups over maintaining insertion order. However, this has changed in recent versions of Python.\n",
        "\n",
        "**20.Explain the difference between a list and a dictionary in terms of data retrieval.**\n",
        "* sol:the key difference between lists and dictionaries in terms of data retrieval is how you access and organize the data.\n",
        "\n",
        "  Lists use numeric indices for fast, sequential access to elements, making them ideal for ordered collections where position matters. However, searching for specific values is less efficient.\n",
        "  Dictionaries use unique keys to access values directly, enabling quick lookups and flexible key-value mappings, especially when you need to associate meaningful labels with your data.\n",
        "  Choose lists for sequential, indexed data and dictionaries for key-based, associative data. Each structure excels in different scenarios, so the right choice depends on your specific use case."
      ],
      "metadata": {
        "id": "n1FlDuGTbI61"
      }
    },
    {
      "cell_type": "markdown",
      "source": [
        "***Practical*** ***Questions***"
      ],
      "metadata": {
        "id": "vhSxjx66j9-V"
      }
    },
    {
      "cell_type": "code",
      "source": [
        "# 1.Write a code to create a string with your name and print it.\n",
        "\n",
        "my_name = \"Venkata Reddy\"       # Create a string with my name\n",
        "print(my_name)\n"
      ],
      "metadata": {
        "colab": {
          "base_uri": "https://localhost:8080/"
        },
        "id": "cHkL-19Cj8CN",
        "outputId": "13af4084-a46a-4113-e9a7-a44b599e7c5c"
      },
      "execution_count": 4,
      "outputs": [
        {
          "output_type": "stream",
          "name": "stdout",
          "text": [
            "Venkata Reddy\n"
          ]
        }
      ]
    },
    {
      "cell_type": "code",
      "source": [
        "# 2.Write a code to find the length of the string \"Hello World\".\n",
        "\n",
        "word = \"Hello World\"\n",
        "print(len(word))      # \"len\" is keyword for length"
      ],
      "metadata": {
        "colab": {
          "base_uri": "https://localhost:8080/"
        },
        "id": "fwHV7U0flVGd",
        "outputId": "0b7a1ff8-2843-4f0d-c898-82ba7f169138"
      },
      "execution_count": 7,
      "outputs": [
        {
          "output_type": "stream",
          "name": "stdout",
          "text": [
            "11\n"
          ]
        }
      ]
    },
    {
      "cell_type": "code",
      "source": [
        "# 3.Write a code to slice the first 3 characters from the string \"Python Programming\".\n",
        "\n",
        "text = \"Python Programming\"       # Define the string\n",
        "first_three = text[:3]            # Slice the first 3 characters\n",
        "print(first_three)\n"
      ],
      "metadata": {
        "colab": {
          "base_uri": "https://localhost:8080/"
        },
        "id": "LCgnwyoPlt4t",
        "outputId": "f03d2335-3734-4d07-989c-5f50dc994806"
      },
      "execution_count": 8,
      "outputs": [
        {
          "output_type": "stream",
          "name": "stdout",
          "text": [
            "Pyt\n"
          ]
        }
      ]
    },
    {
      "cell_type": "code",
      "source": [
        "# 4.Write a code to convert the string \"hello\" to uppercase.\n",
        "word=\"hello\"\n",
        "word2=word.upper()\n",
        "print(word2)"
      ],
      "metadata": {
        "colab": {
          "base_uri": "https://localhost:8080/"
        },
        "id": "apMGNYG1miCN",
        "outputId": "e383615e-ac28-4df9-8c13-96862a6a498f"
      },
      "execution_count": 9,
      "outputs": [
        {
          "output_type": "stream",
          "name": "stdout",
          "text": [
            "HELLO\n"
          ]
        }
      ]
    },
    {
      "cell_type": "code",
      "source": [
        "# 5.Write a code to replace the word \"apple\" with \"orange\" in the string \"I like apple\".\n",
        "like = \"I like apple\"\n",
        "new_like = like.replace(\"apple\", \"orange\")\n",
        "print(new_like)"
      ],
      "metadata": {
        "colab": {
          "base_uri": "https://localhost:8080/"
        },
        "id": "GZ0ydQKimxY8",
        "outputId": "31b68782-e217-4a5a-a427-e1b92801de5b"
      },
      "execution_count": 10,
      "outputs": [
        {
          "output_type": "stream",
          "name": "stdout",
          "text": [
            "I like orange\n"
          ]
        }
      ]
    },
    {
      "cell_type": "code",
      "source": [
        "# 6.Write a code to create a list with numbers 1 to 5 and print it.\n",
        "numbers = [1, 2, 3, 4, 5]\n",
        "print(numbers)"
      ],
      "metadata": {
        "colab": {
          "base_uri": "https://localhost:8080/"
        },
        "id": "CY-scjC4nFLM",
        "outputId": "cae80e93-ecbc-4298-a9bf-c6f3b5102034"
      },
      "execution_count": 11,
      "outputs": [
        {
          "output_type": "stream",
          "name": "stdout",
          "text": [
            "[1, 2, 3, 4, 5]\n"
          ]
        }
      ]
    },
    {
      "cell_type": "code",
      "source": [
        "# 7.Write a code to append the number 10 to the list [1, 2, 3, 4].\n",
        "my_list = [1, 2, 3, 4]\n",
        "my_list.append(10)      # \"append\" is a keyword to add an element to list\n",
        "print(my_list)"
      ],
      "metadata": {
        "colab": {
          "base_uri": "https://localhost:8080/"
        },
        "id": "i6waMbMBnWfU",
        "outputId": "9a3be45a-6feb-470b-8e58-1c8df9a0e714"
      },
      "execution_count": 13,
      "outputs": [
        {
          "output_type": "stream",
          "name": "stdout",
          "text": [
            "[1, 2, 3, 4, 10]\n"
          ]
        }
      ]
    },
    {
      "cell_type": "code",
      "source": [
        "# 8.Write a code to remove the number 3 from the list [1, 2, 3, 4, 5].\n",
        "my_list = [1, 2, 3, 4, 5]\n",
        "my_list.remove(3)       # \"remove\" is a keyword to remove an element from list\n",
        "print(my_list)"
      ],
      "metadata": {
        "colab": {
          "base_uri": "https://localhost:8080/"
        },
        "id": "v1pI6yjRnfks",
        "outputId": "cad8fba1-8d15-4939-80f8-3a88a76fef81"
      },
      "execution_count": 14,
      "outputs": [
        {
          "output_type": "stream",
          "name": "stdout",
          "text": [
            "[1, 2, 4, 5]\n"
          ]
        }
      ]
    },
    {
      "cell_type": "code",
      "source": [
        "# 9.Write a code to access the second element in the list ['a', 'b', 'c', 'd'].\n",
        "my_list = ['a', 'b', 'c', 'd']\n",
        "second_element = my_list[1]   # \" [1] \" is the index of second element in list indexing starts from ' 0 - n'\n",
        "print(second_element)"
      ],
      "metadata": {
        "colab": {
          "base_uri": "https://localhost:8080/"
        },
        "id": "wOeD37iUn3k9",
        "outputId": "75d89dc1-72cb-49f7-9af5-4aa3e76119b4"
      },
      "execution_count": 15,
      "outputs": [
        {
          "output_type": "stream",
          "name": "stdout",
          "text": [
            "b\n"
          ]
        }
      ]
    },
    {
      "cell_type": "code",
      "source": [
        "# 10.Write a code to reverse the list [10, 20, 30, 40, 50].\n",
        "my_list = [10, 20, 30, 40, 50]\n",
        "my_list.reverse()       # \"reverse\" is a keyword to reverse the list elements\n",
        "print(my_list)"
      ],
      "metadata": {
        "colab": {
          "base_uri": "https://localhost:8080/"
        },
        "id": "NaM5hW3ioeEN",
        "outputId": "af6d3c90-d9fe-4b76-960a-475a371d5428"
      },
      "execution_count": 16,
      "outputs": [
        {
          "output_type": "stream",
          "name": "stdout",
          "text": [
            "[50, 40, 30, 20, 10]\n"
          ]
        }
      ]
    },
    {
      "cell_type": "code",
      "source": [
        "# 11.Write a code to create a tuple with the elements 10, 20, 30 and print it.\n",
        "my_tuple = (10, 20, 30)\n",
        "print(my_tuple)"
      ],
      "metadata": {
        "colab": {
          "base_uri": "https://localhost:8080/"
        },
        "id": "wpu9RGsVo66t",
        "outputId": "f3cad591-413d-4c4c-ed3a-66e75acc07f0"
      },
      "execution_count": 17,
      "outputs": [
        {
          "output_type": "stream",
          "name": "stdout",
          "text": [
            "(10, 20, 30)\n"
          ]
        }
      ]
    },
    {
      "cell_type": "code",
      "source": [
        "# 12.Write a code to access the first element of the tuple ('apple', 'banana', 'cherry').\n",
        "my_tuple=('apple','banana','cherry')\n",
        "first_element = my_tuple[0]\n",
        "print(first_element)"
      ],
      "metadata": {
        "colab": {
          "base_uri": "https://localhost:8080/"
        },
        "id": "SowIgzwupHac",
        "outputId": "050e9684-7843-4375-f4aa-0acaca52b366"
      },
      "execution_count": 20,
      "outputs": [
        {
          "output_type": "stream",
          "name": "stdout",
          "text": [
            "apple\n"
          ]
        }
      ]
    },
    {
      "cell_type": "code",
      "source": [
        "# 13.Write a code to count how many times the number 2 appears in the tuple (1, 2, 3, 2, 4, 2).\n",
        "my_tuple = (1, 2, 3, 2, 4, 2)\n",
        "count = my_tuple.count(2)\n",
        "print(count)"
      ],
      "metadata": {
        "colab": {
          "base_uri": "https://localhost:8080/"
        },
        "id": "XuHK98UgpY-d",
        "outputId": "b4350bee-1a2e-4451-abb1-a5f0f64768eb"
      },
      "execution_count": 21,
      "outputs": [
        {
          "output_type": "stream",
          "name": "stdout",
          "text": [
            "3\n"
          ]
        }
      ]
    },
    {
      "cell_type": "code",
      "source": [
        "# 14.Write a code to find the index of the element \"cat\" in the tuple ('dog', 'cat', 'rabbit').\n",
        "my_tuple = ('dog', 'cat', 'rabbit')\n",
        "index = my_tuple.index('cat')\n",
        "print(index)"
      ],
      "metadata": {
        "colab": {
          "base_uri": "https://localhost:8080/"
        },
        "id": "t_2CHo3ep7mu",
        "outputId": "888af9a9-e2a1-452c-d13b-d641115a7753"
      },
      "execution_count": 22,
      "outputs": [
        {
          "output_type": "stream",
          "name": "stdout",
          "text": [
            "1\n"
          ]
        }
      ]
    },
    {
      "cell_type": "code",
      "source": [
        "# 15.Write a code to check if the element \"banana\" is in the tuple ('apple', 'orange', 'banana').\n",
        "my_tuple = ('apple', 'orange', 'banana')\n",
        "is_banana_present = 'banana' in my_tuple\n",
        "print(is_banana_present)"
      ],
      "metadata": {
        "colab": {
          "base_uri": "https://localhost:8080/"
        },
        "id": "8aVCvKdqqEud",
        "outputId": "e53d89d9-e798-4e29-d6cd-7e3d2231e6ed"
      },
      "execution_count": 23,
      "outputs": [
        {
          "output_type": "stream",
          "name": "stdout",
          "text": [
            "True\n"
          ]
        }
      ]
    },
    {
      "cell_type": "code",
      "source": [
        "# 16.Write a code to create a set with the elements 1, 2, 3, 4, 5 and print it.\n",
        "my_set = {1, 2, 3, 4, 5}\n",
        "print(my_set)"
      ],
      "metadata": {
        "colab": {
          "base_uri": "https://localhost:8080/"
        },
        "id": "9dLydxC0qpYm",
        "outputId": "a0a0dc69-944a-41da-bee3-1a68c7c15618"
      },
      "execution_count": 24,
      "outputs": [
        {
          "output_type": "stream",
          "name": "stdout",
          "text": [
            "{1, 2, 3, 4, 5}\n"
          ]
        }
      ]
    },
    {
      "cell_type": "code",
      "source": [
        "# 17.Write a code to add the element 6 to the set {1, 2, 3, 4}.\n",
        "my_set = {1, 2, 3, 4}\n",
        "my_set.add(6)\n",
        "print(my_set)"
      ],
      "metadata": {
        "colab": {
          "base_uri": "https://localhost:8080/"
        },
        "id": "MWdr0y8Tq1AV",
        "outputId": "19d22ea8-664c-4934-f88e-db16f99da1bd"
      },
      "execution_count": 25,
      "outputs": [
        {
          "output_type": "stream",
          "name": "stdout",
          "text": [
            "{1, 2, 3, 4, 6}\n"
          ]
        }
      ]
    },
    {
      "cell_type": "code",
      "source": [
        "# 18.Write a code to create a tuple with the elements 10, 20, 30 and print it.\n",
        "my_tuple = (10, 20, 30)\n",
        "print(my_tuple)"
      ],
      "metadata": {
        "colab": {
          "base_uri": "https://localhost:8080/"
        },
        "id": "dH1RPgljrBiV",
        "outputId": "4f0b2d38-0f66-4269-8bfc-966196175e84"
      },
      "execution_count": 26,
      "outputs": [
        {
          "output_type": "stream",
          "name": "stdout",
          "text": [
            "(10, 20, 30)\n"
          ]
        }
      ]
    },
    {
      "cell_type": "code",
      "source": [
        "# 19.Write a code to access the first element of the tuple ('apple', 'banana', 'cherry').\n",
        "my_tuple = ('apple', 'banana', 'cherry')\n",
        "first_element = my_tuple[0]\n",
        "print(first_element)"
      ],
      "metadata": {
        "colab": {
          "base_uri": "https://localhost:8080/"
        },
        "id": "jSGgYMIurQhW",
        "outputId": "064f5463-513a-4c6d-c4e3-313f6a0e9854"
      },
      "execution_count": 27,
      "outputs": [
        {
          "output_type": "stream",
          "name": "stdout",
          "text": [
            "apple\n"
          ]
        }
      ]
    },
    {
      "cell_type": "code",
      "source": [
        "# 20.Write a code to count how many times the number 2 appears in the tuple (1, 2, 3, 2, 4, 2).\n",
        "tuple=(1,2,3,2,4,2)\n",
        "count=0\n",
        "for i in tuple:\n",
        "    if i==2:\n",
        "        count+=1\n",
        "print(count)"
      ],
      "metadata": {
        "colab": {
          "base_uri": "https://localhost:8080/"
        },
        "id": "oIZWMlHOrrWV",
        "outputId": "b587f672-ba80-4122-e5a4-3f31a04aab15"
      },
      "execution_count": 28,
      "outputs": [
        {
          "output_type": "stream",
          "name": "stdout",
          "text": [
            "3\n"
          ]
        }
      ]
    },
    {
      "cell_type": "code",
      "source": [
        "# 21.Write a code to find the index of the element \"cat\" in the tuple ('dog', 'cat', 'rabbit').\n",
        "my_tuple = ('dog', 'cat', 'rabbit')\n",
        "index = my_tuple.index('cat')\n",
        "print(index)"
      ],
      "metadata": {
        "colab": {
          "base_uri": "https://localhost:8080/"
        },
        "id": "F5jqI3Nzr43G",
        "outputId": "6270769e-d783-4c20-ba65-ea7d93b906e5"
      },
      "execution_count": 29,
      "outputs": [
        {
          "output_type": "stream",
          "name": "stdout",
          "text": [
            "1\n"
          ]
        }
      ]
    },
    {
      "cell_type": "code",
      "source": [
        "# 22.Write a code to check if the element \"banana\" is in the tuple ('apple', 'orange', 'banana').\n",
        "my_tuple = ('apple', 'orange', 'banana')\n",
        "is_banana_present = 'banana' in my_tuple\n",
        "print(is_banana_present)"
      ],
      "metadata": {
        "colab": {
          "base_uri": "https://localhost:8080/"
        },
        "id": "ONhQjBKcsEye",
        "outputId": "6f02dacf-bea8-4e5c-ec7d-63b9b9b7d3f8"
      },
      "execution_count": 30,
      "outputs": [
        {
          "output_type": "stream",
          "name": "stdout",
          "text": [
            "True\n"
          ]
        }
      ]
    },
    {
      "cell_type": "code",
      "source": [
        "# 23.Write a code to create a set with the elements 1, 2, 3, 4, 5 and print it.\n",
        "my_set = {1, 2, 3, 4, 5}\n",
        "print(my_set)"
      ],
      "metadata": {
        "colab": {
          "base_uri": "https://localhost:8080/"
        },
        "id": "UrEKcvT8sKBd",
        "outputId": "cea78083-9f85-48d9-e777-688430214672"
      },
      "execution_count": 31,
      "outputs": [
        {
          "output_type": "stream",
          "name": "stdout",
          "text": [
            "{1, 2, 3, 4, 5}\n"
          ]
        }
      ]
    },
    {
      "cell_type": "code",
      "source": [
        "# 24.Write a code to add the element 6 to the set {1, 2, 3, 4}.\n",
        "my_set = {1, 2, 3, 4}\n",
        "my_set.add(6)\n",
        "print(my_set)"
      ],
      "metadata": {
        "colab": {
          "base_uri": "https://localhost:8080/"
        },
        "id": "vq31EMcusQLN",
        "outputId": "882269b7-a44d-4d98-cbea-9762a427648b"
      },
      "execution_count": 32,
      "outputs": [
        {
          "output_type": "stream",
          "name": "stdout",
          "text": [
            "{1, 2, 3, 4, 6}\n"
          ]
        }
      ]
    },
    {
      "cell_type": "code",
      "source": [],
      "metadata": {
        "id": "0O5MQM3itXTe"
      },
      "execution_count": null,
      "outputs": []
    }
  ]
}